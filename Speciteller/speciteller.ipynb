{
 "cells": [
  {
   "cell_type": "markdown",
   "metadata": {},
   "source": [
    "### Speciteller with sklearn"
   ]
  },
  {
   "cell_type": "code",
   "execution_count": 215,
   "metadata": {},
   "outputs": [
    {
     "name": "stdout",
     "output_type": "stream",
     "text": [
      "/Users/saharatif/Hearst pattern extractor/speciteller\n"
     ]
    }
   ],
   "source": [
    "import argparse\n",
    "# import liblinearutil as ll\n",
    "\n",
    "import sys\n",
    "import os\n",
    "os.chdir('/Users/saharatif/Hearst pattern extractor/speciteller/')\n",
    "! pwd\n",
    "\n",
    "import utils\n",
    "from features import Space\n",
    "from generatefeatures import ModelNewText"
   ]
  },
  {
   "cell_type": "code",
   "execution_count": 216,
   "metadata": {},
   "outputs": [
    {
     "name": "stdout",
     "output_type": "stream",
     "text": [
      "/Users/saharatif/Hearst pattern extractor/speciteller\n"
     ]
    }
   ],
   "source": [
    "!pwd"
   ]
  },
  {
   "cell_type": "code",
   "execution_count": 217,
   "metadata": {},
   "outputs": [],
   "source": [
    "def initBrnSpace():\n",
    "    s = Space(101)\n",
    "    s.loadFromFile(BRNCLSTSPACEFILE)\n",
    "    return s"
   ]
  },
  {
   "cell_type": "code",
   "execution_count": 218,
   "metadata": {},
   "outputs": [],
   "source": [
    "def readScales(scalefile):\n",
    "    scales = {}\n",
    "    with open(scalefile) as f:\n",
    "        for line in f:\n",
    "            k,v = line.strip().split(\"\\t\")\n",
    "            scales[int(k)] = float(v)\n",
    "        f.close()\n",
    "    return scales"
   ]
  },
  {
   "cell_type": "code",
   "execution_count": 219,
   "metadata": {},
   "outputs": [],
   "source": [
    "def simpleScale(x, trainmaxes=None):\n",
    "    maxes = trainmaxes if trainmaxes!=None else {}\n",
    "    if trainmaxes == None:\n",
    "        for itemd in x:\n",
    "            for k,v in itemd.items():\n",
    "                if k not in maxes or maxes[k] < abs(v): maxes[k] = abs(v)\n",
    "    newx = []\n",
    "    for itemd in x:\n",
    "        newd = dict.fromkeys(itemd)\n",
    "        for k,v in itemd.items():\n",
    "            if k in maxes and maxes[k] != 0: newd[k] = (v+0.0)/maxes[k]\n",
    "            else: newd[k] = 0.0\n",
    "        newx.append(newd)\n",
    "    return newx,maxes"
   ]
  },
  {
   "cell_type": "code",
   "execution_count": 220,
   "metadata": {},
   "outputs": [],
   "source": [
    "def getFeatures(fin):\n",
    "    aligner = ModelNewText(brnspace,brnclst,embeddings)\n",
    "    aligner.loadFromFile(fin)\n",
    "    aligner.fShallow()\n",
    "    aligner.fNeuralVec()\n",
    "    aligner.fBrownCluster()\n",
    "    y,xs = aligner.transformShallow()\n",
    "    _,xw = aligner.transformWordRep()\n",
    "    return y,xs,xw"
   ]
  },
  {
   "cell_type": "code",
   "execution_count": 221,
   "metadata": {},
   "outputs": [],
   "source": [
    "def score(p_label, p_val):\n",
    "    ret = []\n",
    "    for l,prob in zip(p_label,p_val):\n",
    "        m = max(prob)\n",
    "        if l == 1: ret.append(1-m)\n",
    "        else: ret.append(m)\n",
    "    return ret"
   ]
  },
  {
   "cell_type": "code",
   "execution_count": 222,
   "metadata": {},
   "outputs": [],
   "source": [
    "def writeSpecificity(preds, outpath):\n",
    "    with open(outpath,'w') as f:\n",
    "        for pred in preds:\n",
    "            f.write(f\"{pred}\\n\")"
   ]
  },
  {
   "cell_type": "code",
   "execution_count": 223,
   "metadata": {},
   "outputs": [],
   "source": [
    "# RT = \"../\"\n",
    "RT = \"/Users/saharatif/Hearst pattern extractor/speciteller/\"\n",
    "\n",
    "BRNCLSTSPACEFILE = RT+\"cotraining_models/brnclst1gram.space\"\n",
    "SHALLOWSCALEFILE = RT+\"cotraining_models/shallow.scale\"\n",
    "SHALLOWMODELFILE = RT+\"cotraining_models/shallow.model\"\n",
    "NEURALBRNSCALEFILE = RT+\"cotraining_models/neuralbrn.scale\"\n",
    "NEURALBRNMODELFILE = RT+\"cotraining_models/neuralbrn.model\""
   ]
  },
  {
   "cell_type": "code",
   "execution_count": 224,
   "metadata": {},
   "outputs": [
    {
     "name": "stdout",
     "output_type": "stream",
     "text": [
      "loading brown clusters...\n",
      "done; # words:  247339\n",
      "loading word embeddings...\n",
      "done; # words:  268810\n"
     ]
    }
   ],
   "source": [
    "brnclst = utils.readMetaOptimizeBrownCluster()\n",
    "embeddings = utils.readMetaOptimizeEmbeddings()\n",
    "brnspace = initBrnSpace()\n",
    "scales_shallow = readScales(SHALLOWSCALEFILE)\n",
    "scales_neuralbrn = readScales(NEURALBRNSCALEFILE)"
   ]
  },
  {
   "cell_type": "code",
   "execution_count": 225,
   "metadata": {},
   "outputs": [],
   "source": [
    "from sklearn.linear_model import LogisticRegression\n",
    "from sklearn.datasets import load_iris\n",
    "import numpy as np"
   ]
  },
  {
   "cell_type": "code",
   "execution_count": 226,
   "metadata": {},
   "outputs": [
    {
     "data": {
      "text/plain": [
       "((1, 14), (1, 201))"
      ]
     },
     "execution_count": 226,
     "metadata": {},
     "output_type": "execute_result"
    }
   ],
   "source": [
    "with open(SHALLOWMODELFILE, 'r') as f:\n",
    "    lines = f.readlines()\n",
    "    \n",
    "shallow_weights = np.array([[float(line) for line in lines[6:]]])\n",
    "\n",
    "with open(NEURALBRNMODELFILE, 'r') as f:\n",
    "    lines = f.readlines()\n",
    "    \n",
    "neuralbrn_weights = np.array([[float(line) for line in lines[6:]]])\n",
    "shallow_weights.shape, neuralbrn_weights.shape"
   ]
  },
  {
   "cell_type": "code",
   "execution_count": 227,
   "metadata": {},
   "outputs": [],
   "source": [
    "# ToDo\n",
    "\"\"\"\n",
    "model_shallow = ll.load_model(SHALLOWMODELFILE)\n",
    "model_neuralbrn = ll.load_model(NEURALBRNMODELFILE)\n",
    "\"\"\"\n",
    "model_shallow = LogisticRegression(\n",
    "    random_state=0, \n",
    "    solver='liblinear',\n",
    "    penalty='l2'\n",
    ")\n",
    "model_shallow.classes_ = np.array([-1, 1])\n",
    "model_shallow.coef_ = shallow_weights\n",
    "model_shallow.intercept_ = np.array([-1.,])"
   ]
  },
  {
   "cell_type": "code",
   "execution_count": 228,
   "metadata": {},
   "outputs": [],
   "source": [
    "model_neuralbrn = LogisticRegression(\n",
    "    random_state=0, \n",
    "    solver='liblinear',\n",
    "    penalty='l2'\n",
    ")\n",
    "model_neuralbrn.classes_ = np.array([-1, 1])\n",
    "model_neuralbrn.coef_ = neuralbrn_weights\n",
    "model_neuralbrn.intercept_ = np.array([-1.,])"
   ]
  },
  {
   "cell_type": "code",
   "execution_count": 229,
   "metadata": {},
   "outputs": [],
   "source": [
    "def predict(y,xs,xw):\n",
    "    xs,_ = simpleScale(xs,scales_shallow)\n",
    "    xw,_ = simpleScale(xw,scales_neuralbrn)\n",
    "    # ToDo\n",
    "    p_label, p_acc, p_val = ll.predict(y,xs,model_shallow,'-q -b 1')\n",
    "    ls_s = score(p_label,p_val)\n",
    "    # ToDo\n",
    "    p_label, p_acc, p_val = ll.predict(y,xw,model_neuralbrn,'-q -b 1')\n",
    "    ls_w = score(p_label,p_val)\n",
    "    return [(x+y)/2 for x,y in zip(ls_s,ls_w)],ls_s,ls_w"
   ]
  },
  {
   "cell_type": "code",
   "execution_count": 230,
   "metadata": {},
   "outputs": [],
   "source": [
    "def getDenseFeatures(X, size):\n",
    "    new_X = []\n",
    "    for x in X:\n",
    "        new_x = []\n",
    "        for i in range(1, size+1):\n",
    "            if i in x:\n",
    "                new_x.append(x[i])\n",
    "            else:\n",
    "                new_x.append(0.)\n",
    "        new_X.append(new_x)\n",
    "    \n",
    "    return new_X"
   ]
  },
  {
   "cell_type": "code",
   "execution_count": 231,
   "metadata": {},
   "outputs": [
    {
     "name": "stdout",
     "output_type": "stream",
     "text": [
      "/Users/saharatif/Hearst pattern extractor/speciteller\n"
     ]
    }
   ],
   "source": [
    "! pwd"
   ]
  },
  {
   "cell_type": "code",
   "execution_count": 240,
   "metadata": {},
   "outputs": [
    {
     "name": "stdout",
     "output_type": "stream",
     "text": [
      "{1: 21, 2: 0.0, 3: 0.23809523809523808, 4: 0.047619047619047616, 5: 5.190476190476191, 6: 2, 7: 0.38095238095238093, 8: 0.14285714285714285, 9: 0.047619047619047616, 10: 360.9047619047619, 11: 223.8095238095238, 12: 1.286717, 13: 8.083106, 14: 3.463294416666667}\n"
     ]
    }
   ],
   "source": [
    "# inputfile = '../sents_test'\n",
    "# outputfile = '../output/sents_test.probs'\n",
    "inputfile = '/Users/saharatif/Hearst pattern extractor/79_t5_single_sentsum_new.txt'\n",
    "outputfile = '/Users/saharatif/Hearst pattern extractor/speciteller/spec.prob'\n",
    "write_all_preds = True\n",
    "\n",
    "y,xs,xw = getFeatures(inputfile)      #-1 is 0 or gen and 1 is 1 as specific\n",
    "print(xs[0])\n",
    " \n"
   ]
  },
  {
   "cell_type": "code",
   "execution_count": 241,
   "metadata": {},
   "outputs": [],
   "source": [
    "def predict_sklearn(y, xs,xw, s_size, w_size):\n",
    "    xs,_ = simpleScale(xs,scales_shallow)\n",
    "    xw,_ = simpleScale(xw,scales_neuralbrn)\n",
    "#     print(f\"xs: {len(xs)} {len(xs[0])} {len(xs[-1])} {s_size}\")\n",
    "#     print(f\"xw: {len(xw)} {len(xw[0])} {len(xw[-1])} {w_size}\")\n",
    "    xs = getDenseFeatures(xs, s_size)\n",
    "    xw = getDenseFeatures(xw, w_size)\n",
    "#     print(f\"xs-: {len(xs)} {len(xs[0])} {len(xs[-1])} {s_size}\")\n",
    "#     print(f\"xw-: {len(xw)} {len(xw[0])} {len(xw[-1])} {w_size}\")\n",
    "    \n",
    "#     print(model_shallow.coef_)\n",
    "#     print(np.array(xs).shape)\n",
    "    \n",
    "    ys = model_shallow.predict(xs)\n",
    "    ps = model_shallow.predict_proba(xs)\n",
    "#     ps_max=np.max(model_shallow.predict_proba(xs),axis=1)\n",
    "#     print(f\"ys: {ys}\")\n",
    "#     print(f\"ps: {ps}\")\n",
    "    yw = model_neuralbrn.predict(xw)\n",
    "    pw = model_neuralbrn.predict_proba(xw)\n",
    "#     print(f\"yw: {yw}\")\n",
    "#     print(f\"pw: {pw}\")\n",
    "    \n",
    "    comb = [(s+w)/2 for s, w in zip(ps, pw)]\n",
    "#     print(comb)\n",
    "\n",
    "    return comb, ys, yw"
   ]
  },
  {
   "cell_type": "code",
   "execution_count": 242,
   "metadata": {},
   "outputs": [
    {
     "name": "stdout",
     "output_type": "stream",
     "text": [
      "0.13736579707820978\n",
      "79\n"
     ]
    }
   ],
   "source": [
    "\n",
    "y,xs,xw = getFeatures(inputfile)\n",
    "preds_comb, preds_s, preds_w = predict_sklearn(\n",
    "    y,\n",
    "    xs,\n",
    "    xw, \n",
    "    len(shallow_weights[0]), \n",
    "    len(neuralbrn_weights[0])\n",
    ")\n",
    "\n",
    "print((preds_comb[0][1]))\n",
    "print(len(preds_comb))\n",
    "# writeSpecificity(preds_comb,outputfile)\n",
    "# print(preds_comb)\n",
    "\n",
    "# if write_all_preds:\n",
    "#     writeSpecificity(preds_s, outputfile+\".s\")\n",
    "#     writeSpecificity(preds_w, outputfile+\".w\")"
   ]
  },
  {
   "cell_type": "code",
   "execution_count": 244,
   "metadata": {},
   "outputs": [
    {
     "name": "stdout",
     "output_type": "stream",
     "text": [
      "spec:  0.8626342029217902\n",
      "spec:  0.9968107597000857\n",
      "spec:  0.9803213192946698\n",
      "gen:  0.28218781817183786\n",
      "spec:  0.8617973801801109\n",
      "spec:  0.5495015623592867\n",
      "spec:  0.9814037219558278\n",
      "spec:  0.9972944157760468\n",
      "spec:  0.9403760898580414\n",
      "spec:  0.9142457914999701\n",
      "spec:  0.9873874787450343\n",
      "spec:  0.8925991544740818\n",
      "spec:  0.9833914174818216\n",
      "spec:  0.781801441302044\n",
      "spec:  0.9767897083267627\n",
      "spec:  0.8210141512047915\n",
      "spec:  0.9904072015463065\n",
      "spec:  0.8969464432101981\n",
      "spec:  0.9950636101585644\n",
      "gen:  0.44924412755815546\n",
      "spec:  0.6693726419882576\n",
      "spec:  0.5268691321292419\n",
      "spec:  0.9519466706839973\n",
      "spec:  0.8015635625262982\n",
      "spec:  0.6600146664535329\n",
      "spec:  0.997119833718164\n",
      "spec:  0.5292542935840017\n",
      "spec:  0.8120119162399172\n",
      "spec:  0.9662043423164021\n",
      "spec:  0.9170345884628407\n",
      "spec:  0.7631755504019611\n",
      "spec:  0.5209099170085651\n",
      "spec:  0.9212400494395955\n",
      "spec:  0.9268788089232254\n",
      "gen:  0.16750381236388823\n",
      "spec:  0.9613382042266448\n",
      "spec:  0.5478792302592244\n",
      "spec:  0.6337880827590565\n",
      "gen:  0.47933740267087716\n",
      "spec:  0.7820296297976752\n",
      "gen:  0.21558192100583184\n",
      "gen:  0.2313679886634531\n",
      "spec:  0.5085770860076404\n",
      "spec:  0.6723535989381291\n",
      "spec:  0.9127169340129143\n",
      "spec:  0.85167421773286\n",
      "spec:  0.9928201095850361\n",
      "spec:  0.9443575413638735\n",
      "spec:  0.98042766537174\n",
      "spec:  0.907873136558908\n",
      "spec:  0.83415106995374\n",
      "spec:  0.9059456070283001\n",
      "spec:  0.7816375390712582\n",
      "spec:  0.9643343524869685\n",
      "spec:  0.9509188274452252\n",
      "gen:  0.2858443139397107\n",
      "spec:  0.8625954200854906\n",
      "spec:  0.9575372127613345\n",
      "spec:  0.7915677099498502\n",
      "spec:  0.9928367101133423\n",
      "spec:  0.607342601535144\n",
      "spec:  0.9661266537821502\n",
      "spec:  0.9298964584120223\n",
      "spec:  0.9903473376720974\n",
      "spec:  0.7135007960314073\n",
      "spec:  0.6903713241776477\n",
      "spec:  0.6290030250176152\n",
      "gen:  0.018425894677764232\n",
      "spec:  0.8780371631559639\n",
      "spec:  0.9622091193018776\n",
      "spec:  0.9968726266318789\n",
      "spec:  0.5293011170340276\n",
      "spec:  0.9951537376537253\n",
      "spec:  0.9744922537635311\n",
      "spec:  0.9555464226123049\n",
      "gen:  0.13063543119490495\n",
      "gen:  0.2505305487127431\n",
      "gen:  0.4172190234608532\n",
      "gen:  0.33474996128338275\n"
     ]
    }
   ],
   "source": [
    "for i in range(len(preds_comb)):\n",
    "    if (preds_comb[i][0]<0.5):\n",
    "        print(\"gen: \",preds_comb[i][0])\n",
    "    else:\n",
    "        print(\"spec: \",1-preds_comb[i][1])"
   ]
  },
  {
   "cell_type": "code",
   "execution_count": 238,
   "metadata": {},
   "outputs": [
    {
     "name": "stdout",
     "output_type": "stream",
     "text": [
      "0.9999533758636953\n",
      "0.9999583309896132\n",
      "0.9977827040535602\n",
      "0.9995378017897648\n",
      "0.8788389835447071\n",
      "0.1876441711219176\n",
      "0.9953388118897429\n",
      "0.9999991831541535\n",
      "0.9978672773783932\n",
      "0.9969580003870107\n",
      "0.9947879132937283\n",
      "0.9424724469059681\n",
      "0.9899968791312866\n",
      "0.9979645079825574\n",
      "0.9997026413263517\n",
      "0.99188198140626\n",
      "0.9983115442908228\n",
      "0.9951646958942818\n",
      "0.9955117794100318\n",
      "0.44130185983918485\n",
      "0.9366472277122391\n",
      "0.8773844223273708\n",
      "0.25821164861207635\n",
      "0.9931006075857971\n",
      "0.9907920470768781\n",
      "0.9836074551816001\n",
      "0.5061663899653127\n",
      "0.9552106926498768\n",
      "0.9991215914015271\n",
      "0.996486823700818\n",
      "0.8492080823909478\n",
      "0.8689410367376496\n",
      "0.9738841298897808\n",
      "0.9381422357713072\n",
      "0.7153322525576415\n",
      "0.23716126389189485\n",
      "0.5661759083943213\n",
      "0.9978344252759156\n",
      "0.7815220747765275\n",
      "0.17065201004353375\n",
      "0.8220719151988104\n",
      "0.31622732755167454\n",
      "0.4512929536265268\n",
      "0.7981738858783377\n",
      "0.982241433125621\n",
      "0.9050722886010681\n",
      "0.9992581388773718\n",
      "0.9980686168576318\n",
      "0.9998674134483928\n",
      "0.9986159639183086\n",
      "0.9421547073718323\n",
      "0.9987015938940115\n",
      "0.9879352251352421\n",
      "0.9914165078869527\n",
      "0.9955236692117473\n",
      "0.9683892008904674\n",
      "0.9976037506490703\n",
      "0.9789775004260722\n",
      "0.997513681017203\n",
      "0.9987811382104267\n",
      "0.9100018764444678\n",
      "0.9976350230820321\n",
      "0.9922593524858712\n",
      "0.9998384063401342\n",
      "0.9890868799146721\n",
      "0.9941353954721052\n",
      "0.868735830226027\n",
      "0.8539754202598131\n",
      "0.9822129990175414\n",
      "0.9958610839236225\n",
      "0.9987454948072426\n",
      "0.6036942304758424\n",
      "0.9998897317234925\n",
      "0.9978733296909114\n",
      "0.9967429758059348\n",
      "0.04385894714469191\n",
      "0.9711616067927823\n",
      "0.6777324887838287\n",
      "0.4595975271750691\n"
     ]
    }
   ],
   "source": [
    "# For Hearst pattern extractor/original_summary_with_entities_single_sentence.txt\n",
    "\n",
    "specificity_summ =[]\n",
    "for i in range(len(preds_comb)):\n",
    "    if (preds_comb[i][0]<0.5):\n",
    "        print(preds_comb[i][0])\n",
    "        specificity_summ.append(preds_comb[i][0])\n",
    "    else:\n",
    "        print(1-preds_comb[i][1])\n",
    "        specificity_summ.append(1-preds_comb[i][1])\n",
    "        "
   ]
  },
  {
   "cell_type": "code",
   "execution_count": 239,
   "metadata": {},
   "outputs": [
    {
     "data": {
      "text/plain": [
       "79"
      ]
     },
     "execution_count": 239,
     "metadata": {},
     "output_type": "execute_result"
    }
   ],
   "source": [
    "len(specificity_summ)"
   ]
  },
  {
   "cell_type": "code",
   "execution_count": 245,
   "metadata": {},
   "outputs": [
    {
     "name": "stdout",
     "output_type": "stream",
     "text": [
      "0.8626342029217902\n",
      "0.9968107597000857\n",
      "0.9803213192946698\n",
      "0.28218781817183786\n",
      "0.8617973801801109\n",
      "0.5495015623592867\n",
      "0.9814037219558278\n",
      "0.9972944157760468\n",
      "0.9403760898580414\n",
      "0.9142457914999701\n",
      "0.9873874787450343\n",
      "0.8925991544740818\n",
      "0.9833914174818216\n",
      "0.781801441302044\n",
      "0.9767897083267627\n",
      "0.8210141512047915\n",
      "0.9904072015463065\n",
      "0.8969464432101981\n",
      "0.9950636101585644\n",
      "0.44924412755815546\n",
      "0.6693726419882576\n",
      "0.5268691321292419\n",
      "0.9519466706839973\n",
      "0.8015635625262982\n",
      "0.6600146664535329\n",
      "0.997119833718164\n",
      "0.5292542935840017\n",
      "0.8120119162399172\n",
      "0.9662043423164021\n",
      "0.9170345884628407\n",
      "0.7631755504019611\n",
      "0.5209099170085651\n",
      "0.9212400494395955\n",
      "0.9268788089232254\n",
      "0.16750381236388823\n",
      "0.9613382042266448\n",
      "0.5478792302592244\n",
      "0.6337880827590565\n",
      "0.47933740267087716\n",
      "0.7820296297976752\n",
      "0.21558192100583184\n",
      "0.2313679886634531\n",
      "0.5085770860076404\n",
      "0.6723535989381291\n",
      "0.9127169340129143\n",
      "0.85167421773286\n",
      "0.9928201095850361\n",
      "0.9443575413638735\n",
      "0.98042766537174\n",
      "0.907873136558908\n",
      "0.83415106995374\n",
      "0.9059456070283001\n",
      "0.7816375390712582\n",
      "0.9643343524869685\n",
      "0.9509188274452252\n",
      "0.2858443139397107\n",
      "0.8625954200854906\n",
      "0.9575372127613345\n",
      "0.7915677099498502\n",
      "0.9928367101133423\n",
      "0.607342601535144\n",
      "0.9661266537821502\n",
      "0.9298964584120223\n",
      "0.9903473376720974\n",
      "0.7135007960314073\n",
      "0.6903713241776477\n",
      "0.6290030250176152\n",
      "0.018425894677764232\n",
      "0.8780371631559639\n",
      "0.9622091193018776\n",
      "0.9968726266318789\n",
      "0.5293011170340276\n",
      "0.9951537376537253\n",
      "0.9744922537635311\n",
      "0.9555464226123049\n",
      "0.13063543119490495\n",
      "0.2505305487127431\n",
      "0.4172190234608532\n",
      "0.33474996128338275\n"
     ]
    }
   ],
   "source": [
    "#for Hearst pattern extractor/t5_single_sentsum.txt\n",
    "\n",
    "specificity_t5_summ =[]\n",
    "for i in range(len(preds_comb)):\n",
    "    if (preds_comb[i][0]<0.5):\n",
    "        print(preds_comb[i][0])\n",
    "        specificity_t5_summ.append(preds_comb[i][0])\n",
    "    else:\n",
    "        print(1-preds_comb[i][1])\n",
    "        specificity_t5_summ.append(1-preds_comb[i][1])"
   ]
  },
  {
   "cell_type": "code",
   "execution_count": 246,
   "metadata": {},
   "outputs": [
    {
     "data": {
      "text/plain": [
       "79"
      ]
     },
     "execution_count": 246,
     "metadata": {},
     "output_type": "execute_result"
    }
   ],
   "source": [
    "len(specificity_t5_summ)"
   ]
  },
  {
   "cell_type": "code",
   "execution_count": 247,
   "metadata": {},
   "outputs": [],
   "source": [
    "import pandas as pd\n",
    "nyt_df_specificity = pd.DataFrame(list(zip(specificity_summ,specificity_t5_summ)),\n",
    "               columns =['Hyponym summary specificity','T5 summary specificity'])"
   ]
  },
  {
   "cell_type": "code",
   "execution_count": 248,
   "metadata": {},
   "outputs": [
    {
     "data": {
      "text/html": [
       "<div>\n",
       "<style scoped>\n",
       "    .dataframe tbody tr th:only-of-type {\n",
       "        vertical-align: middle;\n",
       "    }\n",
       "\n",
       "    .dataframe tbody tr th {\n",
       "        vertical-align: top;\n",
       "    }\n",
       "\n",
       "    .dataframe thead th {\n",
       "        text-align: right;\n",
       "    }\n",
       "</style>\n",
       "<table border=\"1\" class=\"dataframe\">\n",
       "  <thead>\n",
       "    <tr style=\"text-align: right;\">\n",
       "      <th></th>\n",
       "      <th>Hyponym summary specificity</th>\n",
       "      <th>T5 summary specificity</th>\n",
       "    </tr>\n",
       "  </thead>\n",
       "  <tbody>\n",
       "    <tr>\n",
       "      <th>0</th>\n",
       "      <td>0.999953</td>\n",
       "      <td>0.862634</td>\n",
       "    </tr>\n",
       "    <tr>\n",
       "      <th>1</th>\n",
       "      <td>0.999958</td>\n",
       "      <td>0.996811</td>\n",
       "    </tr>\n",
       "    <tr>\n",
       "      <th>2</th>\n",
       "      <td>0.997783</td>\n",
       "      <td>0.980321</td>\n",
       "    </tr>\n",
       "    <tr>\n",
       "      <th>3</th>\n",
       "      <td>0.999538</td>\n",
       "      <td>0.282188</td>\n",
       "    </tr>\n",
       "    <tr>\n",
       "      <th>4</th>\n",
       "      <td>0.878839</td>\n",
       "      <td>0.861797</td>\n",
       "    </tr>\n",
       "    <tr>\n",
       "      <th>...</th>\n",
       "      <td>...</td>\n",
       "      <td>...</td>\n",
       "    </tr>\n",
       "    <tr>\n",
       "      <th>74</th>\n",
       "      <td>0.996743</td>\n",
       "      <td>0.955546</td>\n",
       "    </tr>\n",
       "    <tr>\n",
       "      <th>75</th>\n",
       "      <td>0.043859</td>\n",
       "      <td>0.130635</td>\n",
       "    </tr>\n",
       "    <tr>\n",
       "      <th>76</th>\n",
       "      <td>0.971162</td>\n",
       "      <td>0.250531</td>\n",
       "    </tr>\n",
       "    <tr>\n",
       "      <th>77</th>\n",
       "      <td>0.677732</td>\n",
       "      <td>0.417219</td>\n",
       "    </tr>\n",
       "    <tr>\n",
       "      <th>78</th>\n",
       "      <td>0.459598</td>\n",
       "      <td>0.334750</td>\n",
       "    </tr>\n",
       "  </tbody>\n",
       "</table>\n",
       "<p>79 rows × 2 columns</p>\n",
       "</div>"
      ],
      "text/plain": [
       "    Hyponym summary specificity  T5 summary specificity\n",
       "0                      0.999953                0.862634\n",
       "1                      0.999958                0.996811\n",
       "2                      0.997783                0.980321\n",
       "3                      0.999538                0.282188\n",
       "4                      0.878839                0.861797\n",
       "..                          ...                     ...\n",
       "74                     0.996743                0.955546\n",
       "75                     0.043859                0.130635\n",
       "76                     0.971162                0.250531\n",
       "77                     0.677732                0.417219\n",
       "78                     0.459598                0.334750\n",
       "\n",
       "[79 rows x 2 columns]"
      ]
     },
     "execution_count": 248,
     "metadata": {},
     "output_type": "execute_result"
    }
   ],
   "source": [
    "nyt_df_specificity"
   ]
  },
  {
   "cell_type": "code",
   "execution_count": 157,
   "metadata": {},
   "outputs": [],
   "source": [
    "# df_specificity['Difference']=df_specificity['Hyponym summary specificity']-df_specificity['T5 summary specificity']"
   ]
  },
  {
   "cell_type": "code",
   "execution_count": 182,
   "metadata": {},
   "outputs": [
    {
     "data": {
      "text/html": [
       "<div>\n",
       "<style scoped>\n",
       "    .dataframe tbody tr th:only-of-type {\n",
       "        vertical-align: middle;\n",
       "    }\n",
       "\n",
       "    .dataframe tbody tr th {\n",
       "        vertical-align: top;\n",
       "    }\n",
       "\n",
       "    .dataframe thead th {\n",
       "        text-align: right;\n",
       "    }\n",
       "</style>\n",
       "<table border=\"1\" class=\"dataframe\">\n",
       "  <thead>\n",
       "    <tr style=\"text-align: right;\">\n",
       "      <th></th>\n",
       "      <th>Hyponym summary specificity</th>\n",
       "      <th>T5 summary specificity</th>\n",
       "    </tr>\n",
       "  </thead>\n",
       "  <tbody>\n",
       "    <tr>\n",
       "      <th>0</th>\n",
       "      <td>0.964525</td>\n",
       "      <td>0.996831</td>\n",
       "    </tr>\n",
       "    <tr>\n",
       "      <th>1</th>\n",
       "      <td>0.987285</td>\n",
       "      <td>0.652480</td>\n",
       "    </tr>\n",
       "    <tr>\n",
       "      <th>2</th>\n",
       "      <td>0.994367</td>\n",
       "      <td>0.985793</td>\n",
       "    </tr>\n",
       "    <tr>\n",
       "      <th>3</th>\n",
       "      <td>0.998478</td>\n",
       "      <td>0.750661</td>\n",
       "    </tr>\n",
       "    <tr>\n",
       "      <th>4</th>\n",
       "      <td>0.983478</td>\n",
       "      <td>0.991912</td>\n",
       "    </tr>\n",
       "    <tr>\n",
       "      <th>...</th>\n",
       "      <td>...</td>\n",
       "      <td>...</td>\n",
       "    </tr>\n",
       "    <tr>\n",
       "      <th>97</th>\n",
       "      <td>0.603694</td>\n",
       "      <td>0.626694</td>\n",
       "    </tr>\n",
       "    <tr>\n",
       "      <th>98</th>\n",
       "      <td>0.547684</td>\n",
       "      <td>0.793842</td>\n",
       "    </tr>\n",
       "    <tr>\n",
       "      <th>99</th>\n",
       "      <td>0.999890</td>\n",
       "      <td>0.878037</td>\n",
       "    </tr>\n",
       "    <tr>\n",
       "      <th>100</th>\n",
       "      <td>0.992616</td>\n",
       "      <td>0.998363</td>\n",
       "    </tr>\n",
       "    <tr>\n",
       "      <th>101</th>\n",
       "      <td>0.996743</td>\n",
       "      <td>0.962566</td>\n",
       "    </tr>\n",
       "  </tbody>\n",
       "</table>\n",
       "<p>102 rows × 2 columns</p>\n",
       "</div>"
      ],
      "text/plain": [
       "     Hyponym summary specificity  T5 summary specificity\n",
       "0                       0.964525                0.996831\n",
       "1                       0.987285                0.652480\n",
       "2                       0.994367                0.985793\n",
       "3                       0.998478                0.750661\n",
       "4                       0.983478                0.991912\n",
       "..                           ...                     ...\n",
       "97                      0.603694                0.626694\n",
       "98                      0.547684                0.793842\n",
       "99                      0.999890                0.878037\n",
       "100                     0.992616                0.998363\n",
       "101                     0.996743                0.962566\n",
       "\n",
       "[102 rows x 2 columns]"
      ]
     },
     "execution_count": 182,
     "metadata": {},
     "output_type": "execute_result"
    }
   ],
   "source": [
    "# df_specificity.to_csv('df_specificity.csv',index= False)\n",
    "df_specificity"
   ]
  },
  {
   "cell_type": "code",
   "execution_count": 253,
   "metadata": {},
   "outputs": [],
   "source": [
    "nyt_df_specificity.to_csv('nyt_df_specificity_1.csv',index= False)"
   ]
  },
  {
   "cell_type": "code",
   "execution_count": 251,
   "metadata": {},
   "outputs": [
    {
     "data": {
      "text/html": [
       "<div>\n",
       "<style scoped>\n",
       "    .dataframe tbody tr th:only-of-type {\n",
       "        vertical-align: middle;\n",
       "    }\n",
       "\n",
       "    .dataframe tbody tr th {\n",
       "        vertical-align: top;\n",
       "    }\n",
       "\n",
       "    .dataframe thead th {\n",
       "        text-align: right;\n",
       "    }\n",
       "</style>\n",
       "<table border=\"1\" class=\"dataframe\">\n",
       "  <thead>\n",
       "    <tr style=\"text-align: right;\">\n",
       "      <th></th>\n",
       "      <th>Hyponym summary specificity</th>\n",
       "      <th>T5 summary specificity</th>\n",
       "    </tr>\n",
       "  </thead>\n",
       "  <tbody>\n",
       "    <tr>\n",
       "      <th>0</th>\n",
       "      <td>0.999953</td>\n",
       "      <td>0.862634</td>\n",
       "    </tr>\n",
       "    <tr>\n",
       "      <th>1</th>\n",
       "      <td>0.999958</td>\n",
       "      <td>0.996811</td>\n",
       "    </tr>\n",
       "    <tr>\n",
       "      <th>2</th>\n",
       "      <td>0.997783</td>\n",
       "      <td>0.980321</td>\n",
       "    </tr>\n",
       "    <tr>\n",
       "      <th>3</th>\n",
       "      <td>0.999538</td>\n",
       "      <td>0.282188</td>\n",
       "    </tr>\n",
       "    <tr>\n",
       "      <th>4</th>\n",
       "      <td>0.878839</td>\n",
       "      <td>0.861797</td>\n",
       "    </tr>\n",
       "    <tr>\n",
       "      <th>...</th>\n",
       "      <td>...</td>\n",
       "      <td>...</td>\n",
       "    </tr>\n",
       "    <tr>\n",
       "      <th>74</th>\n",
       "      <td>0.996743</td>\n",
       "      <td>0.955546</td>\n",
       "    </tr>\n",
       "    <tr>\n",
       "      <th>75</th>\n",
       "      <td>0.043859</td>\n",
       "      <td>0.130635</td>\n",
       "    </tr>\n",
       "    <tr>\n",
       "      <th>76</th>\n",
       "      <td>0.971162</td>\n",
       "      <td>0.250531</td>\n",
       "    </tr>\n",
       "    <tr>\n",
       "      <th>77</th>\n",
       "      <td>0.677732</td>\n",
       "      <td>0.417219</td>\n",
       "    </tr>\n",
       "    <tr>\n",
       "      <th>78</th>\n",
       "      <td>0.459598</td>\n",
       "      <td>0.334750</td>\n",
       "    </tr>\n",
       "  </tbody>\n",
       "</table>\n",
       "<p>79 rows × 2 columns</p>\n",
       "</div>"
      ],
      "text/plain": [
       "    Hyponym summary specificity  T5 summary specificity\n",
       "0                      0.999953                0.862634\n",
       "1                      0.999958                0.996811\n",
       "2                      0.997783                0.980321\n",
       "3                      0.999538                0.282188\n",
       "4                      0.878839                0.861797\n",
       "..                          ...                     ...\n",
       "74                     0.996743                0.955546\n",
       "75                     0.043859                0.130635\n",
       "76                     0.971162                0.250531\n",
       "77                     0.677732                0.417219\n",
       "78                     0.459598                0.334750\n",
       "\n",
       "[79 rows x 2 columns]"
      ]
     },
     "execution_count": 251,
     "metadata": {},
     "output_type": "execute_result"
    }
   ],
   "source": [
    "nyt_df_specificity"
   ]
  },
  {
   "cell_type": "code",
   "execution_count": 214,
   "metadata": {},
   "outputs": [
    {
     "data": {
      "text/plain": [
       "<AxesSubplot:ylabel='T5 summary specificity'>"
      ]
     },
     "execution_count": 214,
     "metadata": {},
     "output_type": "execute_result"
    },
    {
     "data": {
      "image/png": "[encoded data removed]",
      "text/plain": [
       "<Figure size 1080x720 with 1 Axes>"
      ]
     },
     "metadata": {
      "needs_background": "light"
     },
     "output_type": "display_data"
    }
   ],
   "source": [
    "import seaborn as sns\n",
    "import numpy as np\n",
    "plt.figure(figsize=(15,10))\n",
    "sns.barplot(data=cnn_df_specificity,x=cnn_df_specificity.index,y=(cnn_df_specificity['T5 summary specificity']))\n",
    "# ax.set_yscale('log')\n",
    "#The more the specificity are near to one the more the log would be near to 0 or less negative. the more the specificity are close to 0 the more the log values would be negative which means many general sentences."
   ]
  },
  {
   "cell_type": "code",
   "execution_count": 213,
   "metadata": {},
   "outputs": [
    {
     "data": {
      "text/plain": [
       "<AxesSubplot:ylabel='Hyponym summary specificity'>"
      ]
     },
     "execution_count": 213,
     "metadata": {},
     "output_type": "execute_result"
    },
    {
     "data": {
      "image/png": "[encoded data removed]",
      "text/plain": [
       "<Figure size 1080x720 with 1 Axes>"
      ]
     },
     "metadata": {
      "needs_background": "light"
     },
     "output_type": "display_data"
    }
   ],
   "source": [
    "plt.figure(figsize=(15,10))\n",
    "sns.barplot(data=cnn_df_specificity,x=cnn_df_specificity.index,y=(cnn_df_specificity['Hyponym summary specificity']))"
   ]
  },
  {
   "cell_type": "code",
   "execution_count": 80,
   "metadata": {},
   "outputs": [
    {
     "data": {
      "text/plain": [
       "<AxesSubplot:ylabel='Difference'>"
      ]
     },
     "execution_count": 80,
     "metadata": {},
     "output_type": "execute_result"
    },
    {
     "data": {
      "image/png": "[encoded data removed]",
      "text/plain": [
       "<Figure size 1800x1080 with 1 Axes>"
      ]
     },
     "metadata": {
      "needs_background": "light"
     },
     "output_type": "display_data"
    }
   ],
   "source": [
    "plt.figure(figsize=(25,15))\n",
    "plt.xticks(rotation = -45) \n",
    "sns.barplot(data=df_specificity,x=df_specificity.index ,y='Difference')\n"
   ]
  },
  {
   "cell_type": "code",
   "execution_count": 94,
   "metadata": {},
   "outputs": [],
   "source": [
    "df=pd.read_csv('/Users/saharatif/Hearst pattern extractor/Hearst_patterns_nyt-csv-v5.csv')\n",
    "file= open('original_summaries.txt','w')\n",
    "for i in df['Summary']:\n",
    "    file.write(str(i))\n",
    "    file.write('\\n')\n",
    "file.close()"
   ]
  },
  {
   "cell_type": "code",
   "execution_count": 95,
   "metadata": {},
   "outputs": [
    {
     "data": {
      "text/html": [
       "<div>\n",
       "<style scoped>\n",
       "    .dataframe tbody tr th:only-of-type {\n",
       "        vertical-align: middle;\n",
       "    }\n",
       "\n",
       "    .dataframe tbody tr th {\n",
       "        vertical-align: top;\n",
       "    }\n",
       "\n",
       "    .dataframe thead th {\n",
       "        text-align: right;\n",
       "    }\n",
       "</style>\n",
       "<table border=\"1\" class=\"dataframe\">\n",
       "  <thead>\n",
       "    <tr style=\"text-align: right;\">\n",
       "      <th></th>\n",
       "      <th>Aggregated summary specificity</th>\n",
       "      <th>Revised summary specificity</th>\n",
       "      <th>Difference</th>\n",
       "    </tr>\n",
       "  </thead>\n",
       "  <tbody>\n",
       "    <tr>\n",
       "      <th>0</th>\n",
       "      <td>0.999998</td>\n",
       "      <td>0.999825</td>\n",
       "      <td>0.000172</td>\n",
       "    </tr>\n",
       "    <tr>\n",
       "      <th>1</th>\n",
       "      <td>0.999974</td>\n",
       "      <td>0.999672</td>\n",
       "      <td>0.000302</td>\n",
       "    </tr>\n",
       "    <tr>\n",
       "      <th>2</th>\n",
       "      <td>0.999920</td>\n",
       "      <td>0.998322</td>\n",
       "      <td>0.001598</td>\n",
       "    </tr>\n",
       "    <tr>\n",
       "      <th>3</th>\n",
       "      <td>0.999999</td>\n",
       "      <td>0.999558</td>\n",
       "      <td>0.000441</td>\n",
       "    </tr>\n",
       "    <tr>\n",
       "      <th>4</th>\n",
       "      <td>0.999538</td>\n",
       "      <td>0.994691</td>\n",
       "      <td>0.004847</td>\n",
       "    </tr>\n",
       "    <tr>\n",
       "      <th>...</th>\n",
       "      <td>...</td>\n",
       "      <td>...</td>\n",
       "      <td>...</td>\n",
       "    </tr>\n",
       "    <tr>\n",
       "      <th>117</th>\n",
       "      <td>0.999377</td>\n",
       "      <td>0.993277</td>\n",
       "      <td>0.006100</td>\n",
       "    </tr>\n",
       "    <tr>\n",
       "      <th>118</th>\n",
       "      <td>0.999863</td>\n",
       "      <td>0.999909</td>\n",
       "      <td>-0.000047</td>\n",
       "    </tr>\n",
       "    <tr>\n",
       "      <th>119</th>\n",
       "      <td>0.999997</td>\n",
       "      <td>0.998965</td>\n",
       "      <td>0.001033</td>\n",
       "    </tr>\n",
       "    <tr>\n",
       "      <th>120</th>\n",
       "      <td>0.998745</td>\n",
       "      <td>0.999956</td>\n",
       "      <td>-0.001211</td>\n",
       "    </tr>\n",
       "    <tr>\n",
       "      <th>121</th>\n",
       "      <td>1.000000</td>\n",
       "      <td>0.999934</td>\n",
       "      <td>0.000066</td>\n",
       "    </tr>\n",
       "  </tbody>\n",
       "</table>\n",
       "<p>122 rows × 3 columns</p>\n",
       "</div>"
      ],
      "text/plain": [
       "     Aggregated summary specificity  Revised summary specificity  Difference\n",
       "0                          0.999998                     0.999825    0.000172\n",
       "1                          0.999974                     0.999672    0.000302\n",
       "2                          0.999920                     0.998322    0.001598\n",
       "3                          0.999999                     0.999558    0.000441\n",
       "4                          0.999538                     0.994691    0.004847\n",
       "..                              ...                          ...         ...\n",
       "117                        0.999377                     0.993277    0.006100\n",
       "118                        0.999863                     0.999909   -0.000047\n",
       "119                        0.999997                     0.998965    0.001033\n",
       "120                        0.998745                     0.999956   -0.001211\n",
       "121                        1.000000                     0.999934    0.000066\n",
       "\n",
       "[122 rows x 3 columns]"
      ]
     },
     "execution_count": 95,
     "metadata": {},
     "output_type": "execute_result"
    }
   ],
   "source": [
    "df_specificity= pd.read_csv('df_specificity.csv')\n",
    "df_specificity"
   ]
  },
  {
   "cell_type": "code",
   "execution_count": 22,
   "metadata": {},
   "outputs": [],
   "source": [
    "def writeSpecificity(preds, outf):\n",
    "    with open(outf,'w') as f:\n",
    "        for x in preds:\n",
    "            f.write(\"%f\\n\" % x)\n",
    "        f.close()\n",
    "    print(\"Output to \"+outf+\" done.\")"
   ]
  },
  {
   "cell_type": "code",
   "execution_count": 23,
   "metadata": {},
   "outputs": [
    {
     "name": "stdout",
     "output_type": "stream",
     "text": [
      "/Users/saharatif/Hearst pattern extractor/speciteller\n"
     ]
    }
   ],
   "source": [
    "! pwd"
   ]
  },
  {
   "cell_type": "code",
   "execution_count": 24,
   "metadata": {},
   "outputs": [],
   "source": [
    "def writeSpecificity(preds, outf):\n",
    "    with open(outf,'w') as f:\n",
    "        for x in preds:\n",
    "            f.write(\"%f\\n\" % x)\n",
    "        f.close()\n",
    "    print(\"Output to \"+outf+\" done.\")"
   ]
  },
  {
   "cell_type": "code",
   "execution_count": 25,
   "metadata": {},
   "outputs": [
    {
     "name": "stdout",
     "output_type": "stream",
     "text": [
      "894 457\n"
     ]
    }
   ],
   "source": [
    "with open('/Users/saharatif/Hearst pattern extractor/speciteller/test.labels', 'r') as f:\n",
    "    labels = [line.strip() for line in f.readlines()]\n",
    "print(len(labels), len(preds_comb))"
   ]
  },
  {
   "cell_type": "code",
   "execution_count": 26,
   "metadata": {},
   "outputs": [
    {
     "data": {
      "text/plain": [
       "0.2360178970917226"
      ]
     },
     "execution_count": 26,
     "metadata": {},
     "output_type": "execute_result"
    }
   ],
   "source": [
    "cnt_acc = 0\n",
    "for label, pred, s, w in zip(labels, preds_comb, preds_s, preds_w):\n",
    "#     print(pred, label, s, w)\n",
    "    if float(pred[0]) >= float(pred[1]):\n",
    "        if label == 'spec':\n",
    "            cnt_acc += 1\n",
    "    else:\n",
    "        if label == 'gen':\n",
    "            cnt_acc += 1\n",
    "cnt_acc / len(labels)"
   ]
  },
  {
   "cell_type": "code",
   "execution_count": 27,
   "metadata": {},
   "outputs": [
    {
     "name": "stdout",
     "output_type": "stream",
     "text": [
      "[0.06098887 0.93901113]\n"
     ]
    }
   ],
   "source": [
    "print(pred)"
   ]
  },
  {
   "cell_type": "code",
   "execution_count": 25,
   "metadata": {},
   "outputs": [],
   "source": [
    "spec_scores = [scores[0] for scores in preds_comb]"
   ]
  },
  {
   "cell_type": "code",
   "execution_count": 26,
   "metadata": {},
   "outputs": [
    {
     "data": {
      "text/plain": [
       "0.6017180936630595"
      ]
     },
     "execution_count": 26,
     "metadata": {},
     "output_type": "execute_result"
    }
   ],
   "source": [
    "sum(spec_scores) / len(spec_scores)"
   ]
  },
  {
   "cell_type": "code",
   "execution_count": 27,
   "metadata": {},
   "outputs": [
    {
     "data": {
      "text/plain": [
       "0.35331931582861986"
      ]
     },
     "execution_count": 27,
     "metadata": {},
     "output_type": "execute_result"
    }
   ],
   "source": [
    "np.std(spec_scores)"
   ]
  },
  {
   "cell_type": "code",
   "execution_count": null,
   "metadata": {},
   "outputs": [],
   "source": []
  },
  {
   "cell_type": "markdown",
   "metadata": {},
   "source": [
    "ARI"
   ]
  },
  {
   "cell_type": "code",
   "execution_count": 169,
   "metadata": {},
   "outputs": [
    {
     "name": "stdout",
     "output_type": "stream",
     "text": [
      "Collecting textstat\n",
      "  Downloading textstat-0.7.2-py3-none-any.whl (101 kB)\n",
      "\u001b[K     |████████████████████████████████| 101 kB 536 kB/s ta 0:00:01\n",
      "\u001b[?25hCollecting pyphen\n",
      "  Downloading pyphen-0.12.0-py3-none-any.whl (2.0 MB)\n",
      "\u001b[K     |████████████████████████████████| 2.0 MB 1.8 MB/s eta 0:00:01\n",
      "\u001b[?25hInstalling collected packages: pyphen, textstat\n",
      "Successfully installed pyphen-0.12.0 textstat-0.7.2\n",
      "Note: you may need to restart the kernel to use updated packages.\n"
     ]
    }
   ],
   "source": [
    "pip install textstat"
   ]
  },
  {
   "cell_type": "code",
   "execution_count": 173,
   "metadata": {},
   "outputs": [],
   "source": [
    "test_data = (\n",
    "    \"President George W Bush and his top advisers have warned the iraqi government that continuing funding for military elements of his new iraq strategy will be contingent on prime minister Nuri Kamal al-maliki's delivery on promises to quell violence, officials said.\"\n",
    ")"
   ]
  },
  {
   "cell_type": "code",
   "execution_count": 174,
   "metadata": {},
   "outputs": [],
   "source": [
    "import textstat"
   ]
  },
  {
   "cell_type": "code",
   "execution_count": 175,
   "metadata": {},
   "outputs": [
    {
     "name": "stdout",
     "output_type": "stream",
     "text": [
      "24.8\n"
     ]
    }
   ],
   "source": [
    "print(textstat.automated_readability_index(test_data))"
   ]
  },
  {
   "cell_type": "code",
   "execution_count": 178,
   "metadata": {},
   "outputs": [],
   "source": [
    "test_data1= (\"\"\"president bush and his top advisers , after nine days of unrelenting criticism from congress , are warning the iraqi government that continuing funding for an american troop increase and other elements of mr. bush 's new iraq strategy will be contingent on prime minister nuri kamal al-maliki ` s delivery on promises to quell violence , senior administration officials said in recent interviews .the warning is coming despite president bush 's declaration , in an interview last weekend , that\"\"\")"
   ]
  },
  {
   "cell_type": "code",
   "execution_count": 180,
   "metadata": {},
   "outputs": [],
   "source": [
    "test_data2= (\"\"\"president bush and his top advisers , after nine days of unrelenting criticism from congress , are warning the iraqi government that continuing funding for an american troop increase and other elements of mr.\"\"\")"
   ]
  },
  {
   "cell_type": "code",
   "execution_count": 181,
   "metadata": {},
   "outputs": [
    {
     "name": "stdout",
     "output_type": "stream",
     "text": [
      "20.3\n"
     ]
    }
   ],
   "source": [
    "print(textstat.automated_readability_index(test_data2))"
   ]
  },
  {
   "cell_type": "code",
   "execution_count": null,
   "metadata": {},
   "outputs": [],
   "source": [
    "df=pd.read_csv()"
   ]
  }
 ],
 "metadata": {
  "kernelspec": {
   "display_name": "Python 3",
   "language": "python",
   "name": "python3"
  },
  "language_info": {
   "codemirror_mode": {
    "name": "ipython",
    "version": 3
   },
   "file_extension": ".py",
   "mimetype": "text/x-python",
   "name": "python",
   "nbconvert_exporter": "python",
   "pygments_lexer": "ipython3",
   "version": "3.8.5"
  }
 },
 "nbformat": 4,
 "nbformat_minor": 5
}
